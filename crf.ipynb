{
 "cells": [
  {
   "cell_type": "markdown",
   "metadata": {},
   "source": [
    "### CRF versus Vowpal Wabbit\n",
    "\n",
    "This notebook shows a reimplementation of NER using Vowpal Wabbit in place of the CRF Suite example given in the tutorial here https://sklearn-crfsuite.readthedocs.io/en/latest/tutorial.html\n",
    "\n",
    "TLDR - Vowpal Wabbit achieves the same algorithm performance, but at a much faster speed.  \n",
    "\n",
    "The CRF implementation took 44s to train and the Vowpal Wabbit took 6s to train. They achieved similar f-score performance on the validation set.\n",
    "\n"
   ]
  },
  {
   "cell_type": "code",
   "execution_count": 229,
   "metadata": {},
   "outputs": [],
   "source": [
    "%matplotlib inline\n",
    "import matplotlib.pyplot as plt\n",
    "plt.style.use('ggplot')"
   ]
  },
  {
   "cell_type": "code",
   "execution_count": 2,
   "metadata": {
    "scrolled": true
   },
   "outputs": [],
   "source": [
    "from itertools import chain\n",
    "\n",
    "import nltk\n",
    "import sklearn\n",
    "import scipy.stats\n",
    "from sklearn.metrics import make_scorer\n",
    "from sklearn.model_selection import cross_val_score\n",
    "from sklearn.model_selection import RandomizedSearchCV\n",
    "\n",
    "import sklearn_crfsuite\n",
    "from sklearn_crfsuite import scorers\n",
    "from sklearn_crfsuite import metrics"
   ]
  },
  {
   "cell_type": "code",
   "execution_count": 3,
   "metadata": {},
   "outputs": [
    {
     "data": {
      "text/plain": [
       "['esp.testa', 'esp.testb', 'esp.train', 'ned.testa', 'ned.testb', 'ned.train']"
      ]
     },
     "execution_count": 3,
     "metadata": {},
     "output_type": "execute_result"
    }
   ],
   "source": [
    "nltk.corpus.conll2002.fileids()\n"
   ]
  },
  {
   "cell_type": "code",
   "execution_count": 4,
   "metadata": {},
   "outputs": [
    {
     "name": "stdout",
     "output_type": "stream",
     "text": [
      "CPU times: user 3.34 s, sys: 136 ms, total: 3.48 s\n",
      "Wall time: 3.52 s\n"
     ]
    }
   ],
   "source": [
    "%%time\n",
    "train_sents = list(nltk.corpus.conll2002.iob_sents('esp.train'))\n",
    "test_sents = list(nltk.corpus.conll2002.iob_sents('esp.testb'))"
   ]
  },
  {
   "cell_type": "code",
   "execution_count": 5,
   "metadata": {},
   "outputs": [
    {
     "data": {
      "text/plain": [
       "[('Melbourne', 'NP', 'B-LOC'),\n",
       " ('(', 'Fpa', 'O'),\n",
       " ('Australia', 'NP', 'B-LOC'),\n",
       " (')', 'Fpt', 'O'),\n",
       " (',', 'Fc', 'O'),\n",
       " ('25', 'Z', 'O'),\n",
       " ('may', 'NC', 'O'),\n",
       " ('(', 'Fpa', 'O'),\n",
       " ('EFE', 'NC', 'B-ORG'),\n",
       " (')', 'Fpt', 'O'),\n",
       " ('.', 'Fp', 'O')]"
      ]
     },
     "execution_count": 5,
     "metadata": {},
     "output_type": "execute_result"
    }
   ],
   "source": [
    "train_sents[0]"
   ]
  },
  {
   "cell_type": "code",
   "execution_count": 436,
   "metadata": {},
   "outputs": [],
   "source": [
    "def word2features(sent, i):\n",
    "    word = sent[i][0]\n",
    "    postag = sent[i][1]\n",
    "\n",
    "    features = {\n",
    "        'bias': 1.0,\n",
    "        'word.lower()': word.lower(),\n",
    "        'word[-3:]': word[-3:],\n",
    "        'word[-2:]': word[-2:],\n",
    "        'word.isupper()': word.isupper(),\n",
    "        'word.istitle()': word.istitle(),\n",
    "        'word.isdigit()': word.isdigit(),\n",
    "        'postag': postag,\n",
    "        'postag[:2]': postag[:2],\n",
    "    }\n",
    "    if i > 0:\n",
    "        word1 = sent[i-1][0]\n",
    "        postag1 = sent[i-1][1]\n",
    "        features.update({\n",
    "            '-1:word.lower()': word1.lower(),\n",
    "            '-1:word.istitle()': word1.istitle(),\n",
    "            '-1:word.isupper()': word1.isupper(),\n",
    "            '-1:postag': postag1,\n",
    "            '-1:postag[:2]': postag1[:2],\n",
    "        })\n",
    "    else:\n",
    "#        pass\n",
    "        features['BOS'] = True\n",
    "\n",
    "    if i < len(sent)-1:\n",
    "        word1 = sent[i+1][0]\n",
    "        postag1 = sent[i+1][1]\n",
    "        features.update({\n",
    "            '+1:word.lower()': word1.lower(),\n",
    "            '+1:word.istitle()': word1.istitle(),\n",
    "            '+1:word.isupper()': word1.isupper(),\n",
    "            '+1:postag': postag1,\n",
    "            '+1:postag[:2]': postag1[:2],\n",
    "        })\n",
    "    else:\n",
    "#        pass\n",
    "        features['EOS'] = True\n",
    "\n",
    "    return features\n",
    "\n",
    "\n",
    "def sent2features(sent):\n",
    "    return [word2features(sent, i) for i in range(len(sent))]\n",
    "\n",
    "def sent2labels(sent):\n",
    "    return [label for token, postag, label in sent]\n",
    "\n",
    "def sent2tokens(sent):\n",
    "    return [token for token, postag, label in sent]"
   ]
  },
  {
   "cell_type": "code",
   "execution_count": 365,
   "metadata": {},
   "outputs": [
    {
     "data": {
      "text/plain": [
       "{'bias': 1.0,\n",
       " 'word.lower()': 'melbourne',\n",
       " 'word.isupper()': False,\n",
       " 'word.istitle()': True,\n",
       " 'word.isdigit()': False,\n",
       " 'postag': 'NP'}"
      ]
     },
     "execution_count": 365,
     "metadata": {},
     "output_type": "execute_result"
    }
   ],
   "source": [
    "sent2features(train_sents[0])[0]"
   ]
  },
  {
   "cell_type": "code",
   "execution_count": 437,
   "metadata": {},
   "outputs": [
    {
     "name": "stdout",
     "output_type": "stream",
     "text": [
      "CPU times: user 2.32 s, sys: 289 ms, total: 2.61 s\n",
      "Wall time: 2.71 s\n"
     ]
    }
   ],
   "source": [
    "%%time\n",
    "X_train = [sent2features(s) for s in train_sents]\n",
    "y_train = [sent2labels(s) for s in train_sents]\n",
    "\n",
    "X_test = [sent2features(s) for s in test_sents]\n",
    "y_test = [sent2labels(s) for s in test_sents]"
   ]
  },
  {
   "cell_type": "code",
   "execution_count": 444,
   "metadata": {},
   "outputs": [
    {
     "name": "stdout",
     "output_type": "stream",
     "text": [
      "CPU times: user 40.8 s, sys: 1.45 s, total: 42.2 s\n",
      "Wall time: 44.1 s\n"
     ]
    },
    {
     "name": "stderr",
     "output_type": "stream",
     "text": [
      "/Users/ja/src/brock/nlp/.venv/lib/python3.7/site-packages/sklearn/base.py:197: FutureWarning: From version 0.24, get_params will raise an AttributeError if a parameter cannot be retrieved as an instance attribute. Previously it would return None.\n",
      "  FutureWarning)\n"
     ]
    },
    {
     "data": {
      "text/plain": [
       "CRF(algorithm='lbfgs', all_possible_states=None, all_possible_transitions=True,\n",
       "    averaging=None, c=None, c1=0.1, c2=0.1, calibration_candidates=None,\n",
       "    calibration_eta=None, calibration_max_trials=None, calibration_rate=None,\n",
       "    calibration_samples=None, delta=None, epsilon=None, error_sensitive=None,\n",
       "    gamma=None, keep_tempfiles=None, linesearch=None, max_iterations=100,\n",
       "    max_linesearch=None, min_freq=None, model_filename=None, num_memories=None,\n",
       "    pa_type=None, period=None, trainer_cls=None, variance=None, verbose=False)"
      ]
     },
     "execution_count": 444,
     "metadata": {},
     "output_type": "execute_result"
    }
   ],
   "source": [
    "%%time\n",
    "crf = sklearn_crfsuite.CRF(\n",
    "    algorithm='lbfgs',\n",
    "    c1=0.1,\n",
    "    c2=0.1,\n",
    "    max_iterations=100,\n",
    "    all_possible_transitions=True\n",
    ")\n",
    "crf.fit(X_train, y_train)"
   ]
  },
  {
   "cell_type": "code",
   "execution_count": 196,
   "metadata": {},
   "outputs": [
    {
     "data": {
      "text/plain": [
       "['B-LOC', 'B-ORG', 'B-PER', 'I-PER', 'B-MISC', 'I-ORG', 'I-LOC', 'I-MISC']"
      ]
     },
     "execution_count": 196,
     "metadata": {},
     "output_type": "execute_result"
    }
   ],
   "source": [
    "labels = list(crf.classes_)\n",
    "labels.remove('O')\n",
    "labels\n"
   ]
  },
  {
   "cell_type": "code",
   "execution_count": 286,
   "metadata": {},
   "outputs": [
    {
     "data": {
      "text/plain": [
       "0.7926814165010722"
      ]
     },
     "execution_count": 286,
     "metadata": {},
     "output_type": "execute_result"
    }
   ],
   "source": [
    "y_pred = crf.predict(X_test)\n",
    "metrics.flat_f1_score(y_test, y_pred,\n",
    "                      average='weighted', labels=labels)"
   ]
  },
  {
   "cell_type": "code",
   "execution_count": 198,
   "metadata": {},
   "outputs": [
    {
     "name": "stdout",
     "output_type": "stream",
     "text": [
      "              precision    recall  f1-score   support\n",
      "\n",
      "       B-LOC      0.810     0.784     0.797      1084\n",
      "       I-LOC      0.690     0.637     0.662       325\n",
      "      B-MISC      0.731     0.569     0.640       339\n",
      "      I-MISC      0.699     0.589     0.639       557\n",
      "       B-ORG      0.807     0.832     0.820      1400\n",
      "       I-ORG      0.852     0.786     0.818      1104\n",
      "       B-PER      0.850     0.884     0.867       735\n",
      "       I-PER      0.893     0.943     0.917       634\n",
      "\n",
      "   micro avg      0.813     0.787     0.799      6178\n",
      "   macro avg      0.791     0.753     0.770      6178\n",
      "weighted avg      0.809     0.787     0.796      6178\n",
      "\n"
     ]
    }
   ],
   "source": [
    "# group B and I results\n",
    "sorted_labels = sorted(\n",
    "    labels,\n",
    "    key=lambda name: (name[1:], name[0])\n",
    ")\n",
    "print(metrics.flat_classification_report(\n",
    "    y_test, y_pred, labels=sorted_labels, digits=3\n",
    "))"
   ]
  },
  {
   "cell_type": "markdown",
   "metadata": {},
   "source": [
    "### Find good regularization parameters\n",
    "This takes an hour to run so skip down to cell 32 to just compare with Vowpal Wabbit"
   ]
  },
  {
   "cell_type": "code",
   "execution_count": 199,
   "metadata": {},
   "outputs": [
    {
     "name": "stdout",
     "output_type": "stream",
     "text": [
      "Fitting 3 folds for each of 50 candidates, totalling 150 fits\n"
     ]
    },
    {
     "name": "stderr",
     "output_type": "stream",
     "text": [
      "[Parallel(n_jobs=-1)]: Using backend LokyBackend with 8 concurrent workers.\n",
      "/Users/ja/src/brock/nlp/.venv/lib/python3.7/site-packages/joblib/externals/loky/process_executor.py:706: UserWarning: A worker stopped while some jobs were given to the executor. This can be caused by a too short worker timeout or by a memory leak.\n",
      "  \"timeout or by a memory leak.\", UserWarning\n",
      "[Parallel(n_jobs=-1)]: Done  34 tasks      | elapsed: 19.4min\n",
      "[Parallel(n_jobs=-1)]: Done 150 out of 150 | elapsed: 84.2min finished\n"
     ]
    },
    {
     "name": "stdout",
     "output_type": "stream",
     "text": [
      "CPU times: user 1h 22min 49s, sys: 1min 3s, total: 1h 23min 53s\n",
      "Wall time: 1h 24min 58s\n"
     ]
    },
    {
     "data": {
      "text/plain": [
       "RandomizedSearchCV(cv=3, error_score=nan,\n",
       "                   estimator=CRF(algorithm='lbfgs', all_possible_states=None,\n",
       "                                 all_possible_transitions=True, averaging=None,\n",
       "                                 c=None, c1=None, c2=None,\n",
       "                                 calibration_candidates=None,\n",
       "                                 calibration_eta=None,\n",
       "                                 calibration_max_trials=None,\n",
       "                                 calibration_rate=None,\n",
       "                                 calibration_samples=None, delta=None,\n",
       "                                 epsilon=None, error_sensitive=None, gamma=None,\n",
       "                                 keep_...\n",
       "                   param_distributions={'c1': <scipy.stats._distn_infrastructure.rv_frozen object at 0x12e62d2d0>,\n",
       "                                        'c2': <scipy.stats._distn_infrastructure.rv_frozen object at 0x12e62d150>},\n",
       "                   pre_dispatch='2*n_jobs', random_state=None, refit=True,\n",
       "                   return_train_score=False,\n",
       "                   scoring=make_scorer(flat_f1_score, average=weighted, labels=['B-LOC', 'B-ORG', 'B-PER', 'I-PER', 'B-MISC', 'I-ORG', 'I-LOC', 'I-MISC']),\n",
       "                   verbose=1)"
      ]
     },
     "execution_count": 199,
     "metadata": {},
     "output_type": "execute_result"
    }
   ],
   "source": [
    "%%time\n",
    "# define fixed parameters and parameters to search\n",
    "crf = sklearn_crfsuite.CRF(\n",
    "    algorithm='lbfgs',\n",
    "    max_iterations=100,\n",
    "    all_possible_transitions=True\n",
    ")\n",
    "params_space = {\n",
    "    'c1': scipy.stats.expon(scale=0.5),\n",
    "    'c2': scipy.stats.expon(scale=0.05),\n",
    "}\n",
    "\n",
    "# use the same metric for evaluation\n",
    "f1_scorer = make_scorer(metrics.flat_f1_score,\n",
    "                        average='weighted', labels=labels)\n",
    "\n",
    "# search\n",
    "rs = RandomizedSearchCV(crf, params_space,\n",
    "                        cv=3,\n",
    "                        verbose=1,\n",
    "                        n_jobs=-1,\n",
    "                        n_iter=50,\n",
    "                        scoring=f1_scorer)\n",
    "rs.fit(X_train, y_train)\n"
   ]
  },
  {
   "cell_type": "code",
   "execution_count": 200,
   "metadata": {},
   "outputs": [
    {
     "name": "stdout",
     "output_type": "stream",
     "text": [
      "best params: {'c1': 0.0840936204079157, 'c2': 0.020933936497433105}\n",
      "best CV score: 0.7495351295614311\n",
      "model size: 1.41M\n"
     ]
    }
   ],
   "source": [
    "# crf = rs.best_estimator_\n",
    "print('best params:', rs.best_params_)\n",
    "print('best CV score:', rs.best_score_)\n",
    "print('model size: {:0.2f}M'.format(rs.best_estimator_.size_ / 1000000))"
   ]
  },
  {
   "cell_type": "code",
   "execution_count": 226,
   "metadata": {},
   "outputs": [
    {
     "data": {
      "text/plain": [
       "array([0.71952604, 0.74953513, 0.74684395, 0.73393991, 0.72569201,\n",
       "       0.74645424, 0.73690762, 0.7478012 , 0.74677072, 0.74634089,\n",
       "       0.73867617, 0.74030764, 0.74834185, 0.74150728, 0.74333355,\n",
       "       0.7484378 , 0.7459279 , 0.74758248, 0.74462126, 0.74770165,\n",
       "       0.74198363, 0.73396257, 0.74186112, 0.74584534, 0.74895209,\n",
       "       0.74251896, 0.74856803, 0.74486346, 0.7413367 , 0.72951735,\n",
       "       0.7472138 , 0.74647496, 0.74500926, 0.73824279, 0.7485859 ,\n",
       "       0.72960609, 0.74018216, 0.73616049, 0.74798119, 0.74806306,\n",
       "       0.72832591, 0.74525546, 0.74769604, 0.74301938, 0.73555006,\n",
       "       0.74436374, 0.74868835, 0.7474537 , 0.7446519 , 0.72485471])"
      ]
     },
     "execution_count": 226,
     "metadata": {},
     "output_type": "execute_result"
    }
   ],
   "source": [
    "rs.cv_results_['mean_test_score']"
   ]
  },
  {
   "cell_type": "code",
   "execution_count": 230,
   "metadata": {},
   "outputs": [
    {
     "name": "stdout",
     "output_type": "stream",
     "text": [
      "Dark blue => 0.7195, dark red => 0.7495\n"
     ]
    },
    {
     "data": {
      "image/png": "[encoded data removed]",
      "text/plain": [
       "<Figure size 864x864 with 1 Axes>"
      ]
     },
     "metadata": {},
     "output_type": "display_data"
    }
   ],
   "source": [
    "_x = [s['c1'] for s in rs.cv_results_['params']]\n",
    "_y = [s['c2'] for s in rs.cv_results_['params']]\n",
    "#_c = [s.mean_validation_score for s in rs.grid_scores_]\n",
    "_c = [s for s in rs.cv_results_['mean_test_score']]\n",
    "\n",
    "\n",
    "fig = plt.figure()\n",
    "fig.set_size_inches(12, 12)\n",
    "ax = plt.gca()\n",
    "ax.set_yscale('log')\n",
    "ax.set_xscale('log')\n",
    "ax.set_xlabel('C1')\n",
    "ax.set_ylabel('C2')\n",
    "ax.set_title(\"Randomized Hyperparameter Search CV Results (min={:0.3}, max={:0.3})\".format(\n",
    "    min(_c), max(_c)\n",
    "))\n",
    "\n",
    "ax.scatter(_x, _y, c=_c, s=60, alpha=0.9, edgecolors=[0,0,0])\n",
    "\n",
    "print(\"Dark blue => {:0.4}, dark red => {:0.4}\".format(min(_c), max(_c)))\n"
   ]
  },
  {
   "cell_type": "code",
   "execution_count": 231,
   "metadata": {},
   "outputs": [
    {
     "name": "stdout",
     "output_type": "stream",
     "text": [
      "              precision    recall  f1-score   support\n",
      "\n",
      "       B-LOC      0.805     0.775     0.790      1084\n",
      "       I-LOC      0.679     0.618     0.647       325\n",
      "      B-MISC      0.721     0.563     0.632       339\n",
      "      I-MISC      0.680     0.589     0.631       557\n",
      "       B-ORG      0.805     0.832     0.818      1400\n",
      "       I-ORG      0.853     0.785     0.818      1104\n",
      "       B-PER      0.846     0.880     0.863       735\n",
      "       I-PER      0.893     0.946     0.919       634\n",
      "\n",
      "   micro avg      0.808     0.783     0.795      6178\n",
      "   macro avg      0.785     0.749     0.765      6178\n",
      "weighted avg      0.805     0.783     0.793      6178\n",
      "\n"
     ]
    }
   ],
   "source": [
    "crf = rs.best_estimator_\n",
    "y_pred = crf.predict(X_test)\n",
    "print(metrics.flat_classification_report(\n",
    "    y_test, y_pred, labels=sorted_labels, digits=3\n",
    "))"
   ]
  },
  {
   "cell_type": "code",
   "execution_count": 232,
   "metadata": {},
   "outputs": [
    {
     "name": "stdout",
     "output_type": "stream",
     "text": [
      "Top likely transitions:\n",
      "B-ORG  -> I-ORG   7.692830\n",
      "I-ORG  -> I-ORG   7.315137\n",
      "B-MISC -> I-MISC  6.996514\n",
      "B-PER  -> I-PER   6.938193\n",
      "I-MISC -> I-MISC  6.862469\n",
      "B-LOC  -> I-LOC   5.832921\n",
      "I-PER  -> I-PER   5.087711\n",
      "I-LOC  -> I-LOC   5.070981\n",
      "O      -> O       4.340767\n",
      "O      -> B-ORG   2.699181\n",
      "O      -> B-PER   2.630990\n",
      "O      -> B-LOC   1.911415\n",
      "O      -> B-MISC  1.805669\n",
      "B-ORG  -> O       0.491836\n",
      "B-LOC  -> B-LOC   0.125653\n",
      "B-ORG  -> B-LOC   0.124709\n",
      "I-PER  -> B-LOC   0.034869\n",
      "B-MISC -> B-ORG   -0.026072\n",
      "B-MISC -> O       -0.129654\n",
      "B-LOC  -> B-PER   -0.185825\n",
      "\n",
      "Top unlikely transitions:\n",
      "B-ORG  -> B-ORG   -2.811087\n",
      "I-LOC  -> B-MISC  -2.832184\n",
      "I-ORG  -> B-LOC   -2.838466\n",
      "I-ORG  -> I-PER   -2.919752\n",
      "I-MISC -> I-ORG   -3.117868\n",
      "B-PER  -> B-MISC  -3.172331\n",
      "I-PER  -> I-LOC   -3.296443\n",
      "I-MISC -> B-LOC   -3.361274\n",
      "I-ORG  -> B-MISC  -3.494127\n",
      "B-PER  -> B-PER   -3.711785\n",
      "I-PER  -> B-ORG   -3.713522\n",
      "I-ORG  -> I-LOC   -3.842116\n",
      "B-ORG  -> B-MISC  -3.899327\n",
      "I-MISC -> I-LOC   -3.986468\n",
      "I-PER  -> B-MISC  -4.064256\n",
      "B-MISC -> B-MISC  -4.102261\n",
      "O      -> I-MISC  -6.220137\n",
      "O      -> I-PER   -6.564911\n",
      "O      -> I-ORG   -6.698229\n",
      "O      -> I-LOC   -7.611680\n"
     ]
    }
   ],
   "source": [
    "from collections import Counter\n",
    "\n",
    "def print_transitions(trans_features):\n",
    "    for (label_from, label_to), weight in trans_features:\n",
    "        print(\"%-6s -> %-7s %0.6f\" % (label_from, label_to, weight))\n",
    "\n",
    "print(\"Top likely transitions:\")\n",
    "print_transitions(Counter(crf.transition_features_).most_common(20))\n",
    "\n",
    "print(\"\\nTop unlikely transitions:\")\n",
    "print_transitions(Counter(crf.transition_features_).most_common()[-20:])"
   ]
  },
  {
   "cell_type": "code",
   "execution_count": 233,
   "metadata": {},
   "outputs": [
    {
     "name": "stdout",
     "output_type": "stream",
     "text": [
      "Top positive:\n",
      "12.792512 B-ORG    word.lower():efe-cantabria\n",
      "11.344728 B-ORG    word.lower():psoe-progresistas\n",
      "9.218917 B-ORG    word.lower():petrobras\n",
      "8.747404 B-ORG    word.lower():coag-extremadura\n",
      "8.682428 I-ORG    -1:word.lower():l\n",
      "8.140708 I-ORG    -1:word.lower():rasd\n",
      "7.592723 B-LOC    +1:word.lower():finalizaron\n",
      "7.315984 I-ORG    -1:word.lower():ag\n",
      "7.314277 B-ORG    +1:word.lower():plasencia\n",
      "7.222892 B-ORG    -1:word.lower():sociolaboral\n",
      "7.140015 B-ORG    -1:word.lower():distancia\n",
      "7.115575 B-ORG    word.lower():eu-ecologista\n",
      "7.059268 B-MISC   word.lower():cc2305001730\n",
      "6.942482 B-ORG    word.lower():xfera\n",
      "6.911962 B-PER    word.lower():orduña\n",
      "6.804302 B-LOC    -1:word.lower():celebrarán\n",
      "6.655427 B-ORG    word[-2:]:-e\n",
      "6.637316 B-MISC   word.lower():diversia\n",
      "6.610338 B-PER    word.lower():valedor\n",
      "6.527150 B-LOC    -1:word.lower():cantabria\n",
      "6.514201 O        word.lower():r.\n",
      "6.514201 O        word[-3:]:R.\n",
      "6.408508 B-MISC   word.lower():vaciamadrid\n",
      "6.320985 B-PER    word.lower():reinas\n",
      "6.311275 B-ORG    word.lower():esquerra\n",
      "6.266303 B-ORG    word.lower():telefónica\n",
      "6.256677 B-ORG    word.lower():terra\n",
      "6.192553 I-LOC    -1:word.lower():calle\n",
      "6.147224 B-MISC   -1:word.lower():league\n",
      "6.096635 B-ORG    +1:word.lower():deutsche\n",
      "\n",
      "Top negative:\n",
      "-2.699240 O        -1:word.lower():santo\n",
      "-2.747702 B-MISC   -1:word.isupper()\n",
      "-2.755464 I-PER    word[-3:]:ico\n",
      "-2.787234 O        +1:word.lower():andalucía\n",
      "-2.806006 O        -1:word.lower():británica\n",
      "-2.841933 O        -1:word.lower():padres\n",
      "-2.843169 O        -1:word.lower():concha\n",
      "-2.918061 O        +1:word.lower():montaña\n",
      "-2.923974 B-LOC    word[-3:]:la\n",
      "-2.925087 I-PER    +1:word.lower():el\n",
      "-2.979500 O        -1:word.lower():sánchez\n",
      "-3.029971 I-ORG    word.lower():plasencia\n",
      "-3.054611 I-PER    +1:word.lower():del\n",
      "-3.167474 O        word[-2:]:nd\n",
      "-3.193275 O        -1:word.lower():sección\n",
      "-3.249173 B-PER    word[-3:]:nes\n",
      "-3.282230 O        word[-3:]:bas\n",
      "-3.303007 O        +1:word.lower():justicia\n",
      "-3.400573 O        word[-3:]:LOS\n",
      "-3.417574 O        -1:word.lower():agora\n",
      "-3.515658 O        word.lower():061\n",
      "-4.011481 B-PER    -1:word.lower():del\n",
      "-4.036804 O        word[-2:]:om\n",
      "-4.265242 I-PER    -1:word.lower():san\n",
      "-4.308769 O        word.lower():mas\n",
      "-4.404768 O        +1:word.lower():plasencia\n",
      "-4.584901 O        -1:word.lower():españolas\n",
      "-5.982538 O        -1:word.lower():celebrarán\n",
      "-7.191086 O        word.isupper()\n",
      "-9.596196 O        word.istitle()\n"
     ]
    }
   ],
   "source": [
    "def print_state_features(state_features):\n",
    "    for (attr, label), weight in state_features:\n",
    "        print(\"%0.6f %-8s %s\" % (weight, label, attr))\n",
    "\n",
    "print(\"Top positive:\")\n",
    "print_state_features(Counter(crf.state_features_).most_common(30))\n",
    "\n",
    "print(\"\\nTop negative:\")\n",
    "print_state_features(Counter(crf.state_features_).most_common()[-30:])"
   ]
  },
  {
   "cell_type": "code",
   "execution_count": 13,
   "metadata": {},
   "outputs": [
    {
     "data": {
      "text/plain": [
       "[('Melbourne', 'NP', 'B-LOC'),\n",
       " ('(', 'Fpa', 'O'),\n",
       " ('Australia', 'NP', 'B-LOC'),\n",
       " (')', 'Fpt', 'O'),\n",
       " (',', 'Fc', 'O'),\n",
       " ('25', 'Z', 'O'),\n",
       " ('may', 'NC', 'O'),\n",
       " ('(', 'Fpa', 'O'),\n",
       " ('EFE', 'NC', 'B-ORG'),\n",
       " (')', 'Fpt', 'O'),\n",
       " ('.', 'Fp', 'O')]"
      ]
     },
     "execution_count": 13,
     "metadata": {},
     "output_type": "execute_result"
    }
   ],
   "source": [
    "# convert the sentences to vowpal wabbit format\n",
    "train_sents[0]"
   ]
  },
  {
   "cell_type": "code",
   "execution_count": 14,
   "metadata": {},
   "outputs": [
    {
     "data": {
      "text/plain": [
       "[('-', 'Fg', 'O')]"
      ]
     },
     "execution_count": 14,
     "metadata": {},
     "output_type": "execute_result"
    }
   ],
   "source": [
    "train_sents[1]"
   ]
  },
  {
   "cell_type": "markdown",
   "metadata": {},
   "source": [
    "### Vowpal Wabbit comparison\n",
    "The below is what is necessary to compare with Vowpal Wabbit. VW is expected to be stored as a command line.\n",
    "The sentences are processed to turn them into Vowpal Wabbit input format in the /tmp/ directory. Then the training and testing is run on those files."
   ]
  },
  {
   "cell_type": "code",
   "execution_count": 32,
   "metadata": {},
   "outputs": [
    {
     "name": "stdout",
     "output_type": "stream",
     "text": [
      "264715\n",
      "['B-LOC', 'O', 'B-LOC', 'O', 'O']\n"
     ]
    }
   ],
   "source": [
    "# Now get all the labels\n",
    "#labels_dups=[[d[2] for d in s] for s in train_sents]\n",
    "labels_dups=[d[2] for s in train_sents for d in s]\n",
    "\n",
    "print(len(labels_dups))\n",
    "print(labels_dups[0:5])\n",
    "#print(train_sents[2])"
   ]
  },
  {
   "cell_type": "code",
   "execution_count": 53,
   "metadata": {},
   "outputs": [
    {
     "name": "stdout",
     "output_type": "stream",
     "text": [
      "['B-LOC', 'I-LOC', 'B-MISC', 'I-MISC', 'O', 'B-ORG', 'I-ORG', 'B-PER', 'I-PER']\n"
     ]
    }
   ],
   "source": [
    "#dedupe\n",
    "labels = list(dict.fromkeys(labels_dups))\n",
    "labels.sort(key=lambda x: x[2:] if len(x) > 2 else x)\n",
    "print(labels)"
   ]
  },
  {
   "cell_type": "code",
   "execution_count": 108,
   "metadata": {},
   "outputs": [],
   "source": [
    "numbered={b:i+1 for i, b in enumerate(labels)}"
   ]
  },
  {
   "cell_type": "code",
   "execution_count": 109,
   "metadata": {},
   "outputs": [
    {
     "name": "stdout",
     "output_type": "stream",
     "text": [
      "{'B-LOC': 1, 'I-LOC': 2, 'B-MISC': 3, 'I-MISC': 4, 'O': 5, 'B-ORG': 6, 'I-ORG': 7, 'B-PER': 8, 'I-PER': 9}\n"
     ]
    }
   ],
   "source": [
    "print(numbered)"
   ]
  },
  {
   "cell_type": "code",
   "execution_count": 110,
   "metadata": {},
   "outputs": [],
   "source": [
    "with open(\"/tmp/numbered\", \"w\") as f:\n",
    "    for key, val in numbered.items():\n",
    "        f.write(key +\" \" +str(val) + \"\\n\")"
   ]
  },
  {
   "cell_type": "code",
   "execution_count": 111,
   "metadata": {
    "scrolled": true
   },
   "outputs": [
    {
     "name": "stdout",
     "output_type": "stream",
     "text": [
      "B-LOC 1\r\n",
      "I-LOC 2\r\n",
      "B-MISC 3\r\n",
      "I-MISC 4\r\n",
      "O 5\r\n",
      "B-ORG 6\r\n",
      "I-ORG 7\r\n",
      "B-PER 8\r\n",
      "I-PER 9\r\n"
     ]
    }
   ],
   "source": [
    "!cat /tmp/numbered"
   ]
  },
  {
   "cell_type": "code",
   "execution_count": 254,
   "metadata": {},
   "outputs": [],
   "source": [
    "with open(\"/tmp/converted\", \"w\") as f:\n",
    "    for s in train_sents:\n",
    "        for toke in s:\n",
    "            label = numbered[toke[2]]\n",
    "            joined = \" \".join(toke[:-1]).replace(\"|\",\"\").replace(\":\", \"COLON\")\n",
    "            f.write(f\"{label} |w {joined}\\n\")\n",
    "        f.write(\"\\n\")"
   ]
  },
  {
   "cell_type": "code",
   "execution_count": 451,
   "metadata": {},
   "outputs": [
    {
     "name": "stdout",
     "output_type": "stream",
     "text": [
      "1 |w bias1.0 word.lower()melbourne word[-3COLON]rne word[-2COLON]ne word.isupper()False word.istitle()True word.isdigit()False postagNP postag[COLON2]NP BOSTrue +1COLONword.lower()( +1COLONword.istitle()False +1COLONword.isupper()False +1COLONpostagFpa +1COLONpostag[COLON2]Fp\r\n",
      "5 |w bias1.0 word.lower()( word[-3COLON]( word[-2COLON]( word.isupper()False word.istitle()False word.isdigit()False postagFpa postag[COLON2]Fp -1COLONword.lower()melbourne -1COLONword.istitle()True -1COLONword.isupper()False -1COLONpostagNP -1COLONpostag[COLON2]NP +1COLONword.lower()australia +1COLONword.istitle()True +1COLONword.isupper()False +1COLONpostagNP +1COLONpostag[COLON2]NP\r\n",
      "1 |w bias1.0 word.lower()australia word[-3COLON]lia word[-2COLON]ia word.isupper()False word.istitle()True word.isdigit()False postagNP postag[COLON2]NP -1COLONword.lower()( -1COLONword.istitle()False -1COLONword.isupper()False -1COLONpostagFpa -1COLONpostag[COLON2]Fp +1COLONword.lower()) +1COLONword.istitle()False +1COLONword.isupper()False +1COLONpostagFpt +1COLONpostag[COLON2]Fp\r\n",
      "5 |w bias1.0 word.lower()) word[-3COLON]) word[-2COLON]) word.isupper()False word.istitle()False word.isdigit()False postagFpt postag[COLON2]Fp -1COLONword.lower()australia -1COLONword.istitle()True -1COLONword.isupper()False -1COLONpostagNP -1COLONpostag[COLON2]NP +1COLONword.lower(), +1COLONword.istitle()False +1COLONword.isupper()False +1COLONpostagFc +1COLONpostag[COLON2]Fc\r\n",
      "5 |w bias1.0 word.lower(), word[-3COLON], word[-2COLON], word.isupper()False word.istitle()False word.isdigit()False postagFc postag[COLON2]Fc -1COLONword.lower()) -1COLONword.istitle()False -1COLONword.isupper()False -1COLONpostagFpt -1COLONpostag[COLON2]Fp +1COLONword.lower()25 +1COLONword.istitle()False +1COLONword.isupper()False +1COLONpostagZ +1COLONpostag[COLON2]Z\r\n",
      "5 |w bias1.0 word.lower()25 word[-3COLON]25 word[-2COLON]25 word.isupper()False word.istitle()False word.isdigit()True postagZ postag[COLON2]Z -1COLONword.lower(), -1COLONword.istitle()False -1COLONword.isupper()False -1COLONpostagFc -1COLONpostag[COLON2]Fc +1COLONword.lower()may +1COLONword.istitle()False +1COLONword.isupper()False +1COLONpostagNC +1COLONpostag[COLON2]NC\r\n",
      "5 |w bias1.0 word.lower()may word[-3COLON]may word[-2COLON]ay word.isupper()False word.istitle()False word.isdigit()False postagNC postag[COLON2]NC -1COLONword.lower()25 -1COLONword.istitle()False -1COLONword.isupper()False -1COLONpostagZ -1COLONpostag[COLON2]Z +1COLONword.lower()( +1COLONword.istitle()False +1COLONword.isupper()False +1COLONpostagFpa +1COLONpostag[COLON2]Fp\r\n",
      "5 |w bias1.0 word.lower()( word[-3COLON]( word[-2COLON]( word.isupper()False word.istitle()False word.isdigit()False postagFpa postag[COLON2]Fp -1COLONword.lower()may -1COLONword.istitle()False -1COLONword.isupper()False -1COLONpostagNC -1COLONpostag[COLON2]NC +1COLONword.lower()efe +1COLONword.istitle()False +1COLONword.isupper()True +1COLONpostagNC +1COLONpostag[COLON2]NC\r\n",
      "6 |w bias1.0 word.lower()efe word[-3COLON]EFE word[-2COLON]FE word.isupper()True word.istitle()False word.isdigit()False postagNC postag[COLON2]NC -1COLONword.lower()( -1COLONword.istitle()False -1COLONword.isupper()False -1COLONpostagFpa -1COLONpostag[COLON2]Fp +1COLONword.lower()) +1COLONword.istitle()False +1COLONword.isupper()False +1COLONpostagFpt +1COLONpostag[COLON2]Fp\r\n",
      "5 |w bias1.0 word.lower()) word[-3COLON]) word[-2COLON]) word.isupper()False word.istitle()False word.isdigit()False postagFpt postag[COLON2]Fp -1COLONword.lower()efe -1COLONword.istitle()False -1COLONword.isupper()True -1COLONpostagNC -1COLONpostag[COLON2]NC +1COLONword.lower(). +1COLONword.istitle()False +1COLONword.isupper()False +1COLONpostagFp +1COLONpostag[COLON2]Fp\r\n"
     ]
    }
   ],
   "source": [
    "!head /tmp/converted"
   ]
  },
  {
   "cell_type": "code",
   "execution_count": 256,
   "metadata": {},
   "outputs": [],
   "source": [
    "with open(\"/tmp/test_converted\", \"w\") as f:\n",
    "    for s in test_sents:\n",
    "        for toke in s:\n",
    "            label = numbered[toke[2]]\n",
    "            joined = \" \".join(toke[:-1]).replace(\"|\",\"\").replace(\":\", \"COLON\")\n",
    "            f.write(f\"{label} |w {joined}\\n\")\n",
    "        f.write(\"\\n\")"
   ]
  },
  {
   "cell_type": "code",
   "execution_count": 452,
   "metadata": {
    "scrolled": true
   },
   "outputs": [
    {
     "name": "stdout",
     "output_type": "stream",
     "text": [
      "1 |w bias1.0 word.lower()la word[-3COLON]La word[-2COLON]La word.isupper()False word.istitle()True word.isdigit()False postagDA postag[COLON2]DA BOSTrue +1COLONword.lower()coruña +1COLONword.istitle()True +1COLONword.isupper()False +1COLONpostagNC +1COLONpostag[COLON2]NC\r\n",
      "2 |w bias1.0 word.lower()coruña word[-3COLON]uña word[-2COLON]ña word.isupper()False word.istitle()True word.isdigit()False postagNC postag[COLON2]NC -1COLONword.lower()la -1COLONword.istitle()True -1COLONword.isupper()False -1COLONpostagDA -1COLONpostag[COLON2]DA +1COLONword.lower(), +1COLONword.istitle()False +1COLONword.isupper()False +1COLONpostagFc +1COLONpostag[COLON2]Fc\r\n",
      "5 |w bias1.0 word.lower(), word[-3COLON], word[-2COLON], word.isupper()False word.istitle()False word.isdigit()False postagFc postag[COLON2]Fc -1COLONword.lower()coruña -1COLONword.istitle()True -1COLONword.isupper()False -1COLONpostagNC -1COLONpostag[COLON2]NC +1COLONword.lower()23 +1COLONword.istitle()False +1COLONword.isupper()False +1COLONpostagZ +1COLONpostag[COLON2]Z\r\n",
      "5 |w bias1.0 word.lower()23 word[-3COLON]23 word[-2COLON]23 word.isupper()False word.istitle()False word.isdigit()True postagZ postag[COLON2]Z -1COLONword.lower(), -1COLONword.istitle()False -1COLONword.isupper()False -1COLONpostagFc -1COLONpostag[COLON2]Fc +1COLONword.lower()may +1COLONword.istitle()False +1COLONword.isupper()False +1COLONpostagNC +1COLONpostag[COLON2]NC\r\n",
      "5 |w bias1.0 word.lower()may word[-3COLON]may word[-2COLON]ay word.isupper()False word.istitle()False word.isdigit()False postagNC postag[COLON2]NC -1COLONword.lower()23 -1COLONword.istitle()False -1COLONword.isupper()False -1COLONpostagZ -1COLONpostag[COLON2]Z +1COLONword.lower()( +1COLONword.istitle()False +1COLONword.isupper()False +1COLONpostagFpa +1COLONpostag[COLON2]Fp\r\n",
      "5 |w bias1.0 word.lower()( word[-3COLON]( word[-2COLON]( word.isupper()False word.istitle()False word.isdigit()False postagFpa postag[COLON2]Fp -1COLONword.lower()may -1COLONword.istitle()False -1COLONword.isupper()False -1COLONpostagNC -1COLONpostag[COLON2]NC +1COLONword.lower()efecom +1COLONword.istitle()False +1COLONword.isupper()True +1COLONpostagNP +1COLONpostag[COLON2]NP\r\n",
      "6 |w bias1.0 word.lower()efecom word[-3COLON]COM word[-2COLON]OM word.isupper()True word.istitle()False word.isdigit()False postagNP postag[COLON2]NP -1COLONword.lower()( -1COLONword.istitle()False -1COLONword.isupper()False -1COLONpostagFpa -1COLONpostag[COLON2]Fp +1COLONword.lower()) +1COLONword.istitle()False +1COLONword.isupper()False +1COLONpostagFpt +1COLONpostag[COLON2]Fp\r\n",
      "5 |w bias1.0 word.lower()) word[-3COLON]) word[-2COLON]) word.isupper()False word.istitle()False word.isdigit()False postagFpt postag[COLON2]Fp -1COLONword.lower()efecom -1COLONword.istitle()False -1COLONword.isupper()True -1COLONpostagNP -1COLONpostag[COLON2]NP +1COLONword.lower(). +1COLONword.istitle()False +1COLONword.isupper()False +1COLONpostagFp +1COLONpostag[COLON2]Fp\r\n",
      "5 |w bias1.0 word.lower(). word[-3COLON]. word[-2COLON]. word.isupper()False word.istitle()False word.isdigit()False postagFp postag[COLON2]Fp -1COLONword.lower()) -1COLONword.istitle()False -1COLONword.isupper()False -1COLONpostagFpt -1COLONpostag[COLON2]Fp EOSTrue\r\n",
      "\r\n"
     ]
    }
   ],
   "source": [
    "!head /tmp/test_converted"
   ]
  },
  {
   "cell_type": "code",
   "execution_count": 337,
   "metadata": {},
   "outputs": [
    {
     "name": "stdout",
     "output_type": "stream",
     "text": [
      "1517\n"
     ]
    }
   ],
   "source": [
    "with open(\"/tmp/mycrfpredict\", \"r\") as f:\n",
    "    lines = f.readlines()\n",
    "    inv_map = {v: k for k, v in numbered.items()}\n",
    "    #vw_pred = [[numbered[int(t)] for t in l.split()] for l in lines]\n",
    "    vw_pred = [[inv_map[int(t)] for t in l.split()] for l in lines]\n",
    "    print(len(lines))\n"
   ]
  },
  {
   "cell_type": "code",
   "execution_count": 338,
   "metadata": {},
   "outputs": [
    {
     "name": "stdout",
     "output_type": "stream",
     "text": [
      "[['B-LOC', 'I-LOC', 'O', 'O', 'O', 'O', 'B-ORG', 'O', 'O'], ['O']]\n"
     ]
    }
   ],
   "source": [
    "print(vw_pred[0:2])"
   ]
  },
  {
   "cell_type": "code",
   "execution_count": 339,
   "metadata": {},
   "outputs": [
    {
     "name": "stdout",
     "output_type": "stream",
     "text": [
      "8323\n"
     ]
    }
   ],
   "source": [
    "print(len(train_sents))"
   ]
  },
  {
   "cell_type": "code",
   "execution_count": 340,
   "metadata": {},
   "outputs": [
    {
     "data": {
      "text/plain": [
       "0.7928934492493143"
      ]
     },
     "execution_count": 340,
     "metadata": {},
     "output_type": "execute_result"
    }
   ],
   "source": [
    "#print(y_pred)\n",
    "#y_pred = crf.predict(X_test)\n",
    "#metrics.flat_f1_score(y_test, y_pred,\n",
    "#                      average='weighted', labels=labels)\n",
    "metrics.flat_f1_score(y_test, vw_pred,\n",
    "                       average='weighted', labels=labels)"
   ]
  },
  {
   "cell_type": "code",
   "execution_count": 453,
   "metadata": {},
   "outputs": [
    {
     "name": "stdout",
     "output_type": "stream",
     "text": [
      "['1 2 5 5 5 5 6 5 5 \\n', '5 \\n', '5 5 5 5 5 5 5 5 5 5 5 5 3 5 5 1 5 5 5 5 5 5 5 5 5 5 5 5 5 5 5 5 5 5 5 5 5 8 9 9 5 5 5 5 5 1 2 5 \\n']\n"
     ]
    }
   ],
   "source": [
    "print(lines[0:3])"
   ]
  },
  {
   "cell_type": "code",
   "execution_count": 143,
   "metadata": {},
   "outputs": [
    {
     "data": {
      "text/plain": [
       "[{'bias': 1.0,\n",
       "  'word.lower()': 'melbourne',\n",
       "  'word[-3:]': 'rne',\n",
       "  'word[-2:]': 'ne',\n",
       "  'word.isupper()': False,\n",
       "  'word.istitle()': True,\n",
       "  'word.isdigit()': False,\n",
       "  'postag': 'NP',\n",
       "  'postag[:2]': 'NP',\n",
       "  'BOS': True,\n",
       "  '+1:word.lower()': '(',\n",
       "  '+1:word.istitle()': False,\n",
       "  '+1:word.isupper()': False,\n",
       "  '+1:postag': 'Fpa',\n",
       "  '+1:postag[:2]': 'Fp'},\n",
       " {'bias': 1.0,\n",
       "  'word.lower()': '(',\n",
       "  'word[-3:]': '(',\n",
       "  'word[-2:]': '(',\n",
       "  'word.isupper()': False,\n",
       "  'word.istitle()': False,\n",
       "  'word.isdigit()': False,\n",
       "  'postag': 'Fpa',\n",
       "  'postag[:2]': 'Fp',\n",
       "  '-1:word.lower()': 'melbourne',\n",
       "  '-1:word.istitle()': True,\n",
       "  '-1:word.isupper()': False,\n",
       "  '-1:postag': 'NP',\n",
       "  '-1:postag[:2]': 'NP',\n",
       "  '+1:word.lower()': 'australia',\n",
       "  '+1:word.istitle()': True,\n",
       "  '+1:word.isupper()': False,\n",
       "  '+1:postag': 'NP',\n",
       "  '+1:postag[:2]': 'NP'},\n",
       " {'bias': 1.0,\n",
       "  'word.lower()': 'australia',\n",
       "  'word[-3:]': 'lia',\n",
       "  'word[-2:]': 'ia',\n",
       "  'word.isupper()': False,\n",
       "  'word.istitle()': True,\n",
       "  'word.isdigit()': False,\n",
       "  'postag': 'NP',\n",
       "  'postag[:2]': 'NP',\n",
       "  '-1:word.lower()': '(',\n",
       "  '-1:word.istitle()': False,\n",
       "  '-1:word.isupper()': False,\n",
       "  '-1:postag': 'Fpa',\n",
       "  '-1:postag[:2]': 'Fp',\n",
       "  '+1:word.lower()': ')',\n",
       "  '+1:word.istitle()': False,\n",
       "  '+1:word.isupper()': False,\n",
       "  '+1:postag': 'Fpt',\n",
       "  '+1:postag[:2]': 'Fp'},\n",
       " {'bias': 1.0,\n",
       "  'word.lower()': ')',\n",
       "  'word[-3:]': ')',\n",
       "  'word[-2:]': ')',\n",
       "  'word.isupper()': False,\n",
       "  'word.istitle()': False,\n",
       "  'word.isdigit()': False,\n",
       "  'postag': 'Fpt',\n",
       "  'postag[:2]': 'Fp',\n",
       "  '-1:word.lower()': 'australia',\n",
       "  '-1:word.istitle()': True,\n",
       "  '-1:word.isupper()': False,\n",
       "  '-1:postag': 'NP',\n",
       "  '-1:postag[:2]': 'NP',\n",
       "  '+1:word.lower()': ',',\n",
       "  '+1:word.istitle()': False,\n",
       "  '+1:word.isupper()': False,\n",
       "  '+1:postag': 'Fc',\n",
       "  '+1:postag[:2]': 'Fc'},\n",
       " {'bias': 1.0,\n",
       "  'word.lower()': ',',\n",
       "  'word[-3:]': ',',\n",
       "  'word[-2:]': ',',\n",
       "  'word.isupper()': False,\n",
       "  'word.istitle()': False,\n",
       "  'word.isdigit()': False,\n",
       "  'postag': 'Fc',\n",
       "  'postag[:2]': 'Fc',\n",
       "  '-1:word.lower()': ')',\n",
       "  '-1:word.istitle()': False,\n",
       "  '-1:word.isupper()': False,\n",
       "  '-1:postag': 'Fpt',\n",
       "  '-1:postag[:2]': 'Fp',\n",
       "  '+1:word.lower()': '25',\n",
       "  '+1:word.istitle()': False,\n",
       "  '+1:word.isupper()': False,\n",
       "  '+1:postag': 'Z',\n",
       "  '+1:postag[:2]': 'Z'},\n",
       " {'bias': 1.0,\n",
       "  'word.lower()': '25',\n",
       "  'word[-3:]': '25',\n",
       "  'word[-2:]': '25',\n",
       "  'word.isupper()': False,\n",
       "  'word.istitle()': False,\n",
       "  'word.isdigit()': True,\n",
       "  'postag': 'Z',\n",
       "  'postag[:2]': 'Z',\n",
       "  '-1:word.lower()': ',',\n",
       "  '-1:word.istitle()': False,\n",
       "  '-1:word.isupper()': False,\n",
       "  '-1:postag': 'Fc',\n",
       "  '-1:postag[:2]': 'Fc',\n",
       "  '+1:word.lower()': 'may',\n",
       "  '+1:word.istitle()': False,\n",
       "  '+1:word.isupper()': False,\n",
       "  '+1:postag': 'NC',\n",
       "  '+1:postag[:2]': 'NC'},\n",
       " {'bias': 1.0,\n",
       "  'word.lower()': 'may',\n",
       "  'word[-3:]': 'may',\n",
       "  'word[-2:]': 'ay',\n",
       "  'word.isupper()': False,\n",
       "  'word.istitle()': False,\n",
       "  'word.isdigit()': False,\n",
       "  'postag': 'NC',\n",
       "  'postag[:2]': 'NC',\n",
       "  '-1:word.lower()': '25',\n",
       "  '-1:word.istitle()': False,\n",
       "  '-1:word.isupper()': False,\n",
       "  '-1:postag': 'Z',\n",
       "  '-1:postag[:2]': 'Z',\n",
       "  '+1:word.lower()': '(',\n",
       "  '+1:word.istitle()': False,\n",
       "  '+1:word.isupper()': False,\n",
       "  '+1:postag': 'Fpa',\n",
       "  '+1:postag[:2]': 'Fp'},\n",
       " {'bias': 1.0,\n",
       "  'word.lower()': '(',\n",
       "  'word[-3:]': '(',\n",
       "  'word[-2:]': '(',\n",
       "  'word.isupper()': False,\n",
       "  'word.istitle()': False,\n",
       "  'word.isdigit()': False,\n",
       "  'postag': 'Fpa',\n",
       "  'postag[:2]': 'Fp',\n",
       "  '-1:word.lower()': 'may',\n",
       "  '-1:word.istitle()': False,\n",
       "  '-1:word.isupper()': False,\n",
       "  '-1:postag': 'NC',\n",
       "  '-1:postag[:2]': 'NC',\n",
       "  '+1:word.lower()': 'efe',\n",
       "  '+1:word.istitle()': False,\n",
       "  '+1:word.isupper()': True,\n",
       "  '+1:postag': 'NC',\n",
       "  '+1:postag[:2]': 'NC'},\n",
       " {'bias': 1.0,\n",
       "  'word.lower()': 'efe',\n",
       "  'word[-3:]': 'EFE',\n",
       "  'word[-2:]': 'FE',\n",
       "  'word.isupper()': True,\n",
       "  'word.istitle()': False,\n",
       "  'word.isdigit()': False,\n",
       "  'postag': 'NC',\n",
       "  'postag[:2]': 'NC',\n",
       "  '-1:word.lower()': '(',\n",
       "  '-1:word.istitle()': False,\n",
       "  '-1:word.isupper()': False,\n",
       "  '-1:postag': 'Fpa',\n",
       "  '-1:postag[:2]': 'Fp',\n",
       "  '+1:word.lower()': ')',\n",
       "  '+1:word.istitle()': False,\n",
       "  '+1:word.isupper()': False,\n",
       "  '+1:postag': 'Fpt',\n",
       "  '+1:postag[:2]': 'Fp'},\n",
       " {'bias': 1.0,\n",
       "  'word.lower()': ')',\n",
       "  'word[-3:]': ')',\n",
       "  'word[-2:]': ')',\n",
       "  'word.isupper()': False,\n",
       "  'word.istitle()': False,\n",
       "  'word.isdigit()': False,\n",
       "  'postag': 'Fpt',\n",
       "  'postag[:2]': 'Fp',\n",
       "  '-1:word.lower()': 'efe',\n",
       "  '-1:word.istitle()': False,\n",
       "  '-1:word.isupper()': True,\n",
       "  '-1:postag': 'NC',\n",
       "  '-1:postag[:2]': 'NC',\n",
       "  '+1:word.lower()': '.',\n",
       "  '+1:word.istitle()': False,\n",
       "  '+1:word.isupper()': False,\n",
       "  '+1:postag': 'Fp',\n",
       "  '+1:postag[:2]': 'Fp'},\n",
       " {'bias': 1.0,\n",
       "  'word.lower()': '.',\n",
       "  'word[-3:]': '.',\n",
       "  'word[-2:]': '.',\n",
       "  'word.isupper()': False,\n",
       "  'word.istitle()': False,\n",
       "  'word.isdigit()': False,\n",
       "  'postag': 'Fp',\n",
       "  'postag[:2]': 'Fp',\n",
       "  '-1:word.lower()': ')',\n",
       "  '-1:word.istitle()': False,\n",
       "  '-1:word.isupper()': False,\n",
       "  '-1:postag': 'Fpt',\n",
       "  '-1:postag[:2]': 'Fp',\n",
       "  'EOS': True}]"
      ]
     },
     "execution_count": 143,
     "metadata": {},
     "output_type": "execute_result"
    }
   ],
   "source": [
    "X_train[0]"
   ]
  },
  {
   "cell_type": "code",
   "execution_count": 280,
   "metadata": {},
   "outputs": [],
   "source": [
    "def replace_chars(a):\n",
    "    return a.replace(\" \",\"_\").replace(\"|\",\"PIPE\").replace(\":\", \"COLON\")"
   ]
  },
  {
   "cell_type": "code",
   "execution_count": 408,
   "metadata": {},
   "outputs": [],
   "source": [
    "def features_tostring(f):\n",
    "    return \" \".join([replace_chars(k) + replace_chars(str(v)) for k, v in f.items()])"
   ]
  },
  {
   "cell_type": "code",
   "execution_count": 172,
   "metadata": {},
   "outputs": [
    {
     "data": {
      "text/plain": [
       "['bias1.0 word.lower()melbourne word[-3COLON]rne word[-2COLON]ne word.isupper()False word.istitle()True word.isdigit()False postagNP postag[COLON2]NP BOSTrue +1COLONword.lower()( +1COLONword.istitle()False +1COLONword.isupper()False +1COLONpostagFpa +1COLONpostag[COLON2]Fp',\n",
       " 'bias1.0 word.lower()( word[-3COLON]( word[-2COLON]( word.isupper()False word.istitle()False word.isdigit()False postagFpa postag[COLON2]Fp -1COLONword.lower()melbourne -1COLONword.istitle()True -1COLONword.isupper()False -1COLONpostagNP -1COLONpostag[COLON2]NP +1COLONword.lower()australia +1COLONword.istitle()True +1COLONword.isupper()False +1COLONpostagNP +1COLONpostag[COLON2]NP',\n",
       " 'bias1.0 word.lower()australia word[-3COLON]lia word[-2COLON]ia word.isupper()False word.istitle()True word.isdigit()False postagNP postag[COLON2]NP -1COLONword.lower()( -1COLONword.istitle()False -1COLONword.isupper()False -1COLONpostagFpa -1COLONpostag[COLON2]Fp +1COLONword.lower()) +1COLONword.istitle()False +1COLONword.isupper()False +1COLONpostagFpt +1COLONpostag[COLON2]Fp',\n",
       " 'bias1.0 word.lower()) word[-3COLON]) word[-2COLON]) word.isupper()False word.istitle()False word.isdigit()False postagFpt postag[COLON2]Fp -1COLONword.lower()australia -1COLONword.istitle()True -1COLONword.isupper()False -1COLONpostagNP -1COLONpostag[COLON2]NP +1COLONword.lower(), +1COLONword.istitle()False +1COLONword.isupper()False +1COLONpostagFc +1COLONpostag[COLON2]Fc',\n",
       " 'bias1.0 word.lower(), word[-3COLON], word[-2COLON], word.isupper()False word.istitle()False word.isdigit()False postagFc postag[COLON2]Fc -1COLONword.lower()) -1COLONword.istitle()False -1COLONword.isupper()False -1COLONpostagFpt -1COLONpostag[COLON2]Fp +1COLONword.lower()25 +1COLONword.istitle()False +1COLONword.isupper()False +1COLONpostagZ +1COLONpostag[COLON2]Z',\n",
       " 'bias1.0 word.lower()25 word[-3COLON]25 word[-2COLON]25 word.isupper()False word.istitle()False word.isdigit()True postagZ postag[COLON2]Z -1COLONword.lower(), -1COLONword.istitle()False -1COLONword.isupper()False -1COLONpostagFc -1COLONpostag[COLON2]Fc +1COLONword.lower()may +1COLONword.istitle()False +1COLONword.isupper()False +1COLONpostagNC +1COLONpostag[COLON2]NC',\n",
       " 'bias1.0 word.lower()may word[-3COLON]may word[-2COLON]ay word.isupper()False word.istitle()False word.isdigit()False postagNC postag[COLON2]NC -1COLONword.lower()25 -1COLONword.istitle()False -1COLONword.isupper()False -1COLONpostagZ -1COLONpostag[COLON2]Z +1COLONword.lower()( +1COLONword.istitle()False +1COLONword.isupper()False +1COLONpostagFpa +1COLONpostag[COLON2]Fp',\n",
       " 'bias1.0 word.lower()( word[-3COLON]( word[-2COLON]( word.isupper()False word.istitle()False word.isdigit()False postagFpa postag[COLON2]Fp -1COLONword.lower()may -1COLONword.istitle()False -1COLONword.isupper()False -1COLONpostagNC -1COLONpostag[COLON2]NC +1COLONword.lower()efe +1COLONword.istitle()False +1COLONword.isupper()True +1COLONpostagNC +1COLONpostag[COLON2]NC',\n",
       " 'bias1.0 word.lower()efe word[-3COLON]EFE word[-2COLON]FE word.isupper()True word.istitle()False word.isdigit()False postagNC postag[COLON2]NC -1COLONword.lower()( -1COLONword.istitle()False -1COLONword.isupper()False -1COLONpostagFpa -1COLONpostag[COLON2]Fp +1COLONword.lower()) +1COLONword.istitle()False +1COLONword.isupper()False +1COLONpostagFpt +1COLONpostag[COLON2]Fp',\n",
       " 'bias1.0 word.lower()) word[-3COLON]) word[-2COLON]) word.isupper()False word.istitle()False word.isdigit()False postagFpt postag[COLON2]Fp -1COLONword.lower()efe -1COLONword.istitle()False -1COLONword.isupper()True -1COLONpostagNC -1COLONpostag[COLON2]NC +1COLONword.lower(). +1COLONword.istitle()False +1COLONword.isupper()False +1COLONpostagFp +1COLONpostag[COLON2]Fp',\n",
       " 'bias1.0 word.lower(). word[-3COLON]. word[-2COLON]. word.isupper()False word.istitle()False word.isdigit()False postagFp postag[COLON2]Fp -1COLONword.lower()) -1COLONword.istitle()False -1COLONword.isupper()False -1COLONpostagFpt -1COLONpostag[COLON2]Fp EOSTrue']"
      ]
     },
     "execution_count": 172,
     "metadata": {},
     "output_type": "execute_result"
    }
   ],
   "source": [
    "[features_tostring(f) for f in X_train[0]]"
   ]
  },
  {
   "cell_type": "code",
   "execution_count": 174,
   "metadata": {},
   "outputs": [
    {
     "data": {
      "text/plain": [
       "['B-LOC', 'O', 'B-LOC', 'O', 'O', 'O', 'O', 'O', 'B-ORG', 'O', 'O']"
      ]
     },
     "execution_count": 174,
     "metadata": {},
     "output_type": "execute_result"
    }
   ],
   "source": [
    "y_train[0]"
   ]
  },
  {
   "cell_type": "code",
   "execution_count": 438,
   "metadata": {},
   "outputs": [
    {
     "name": "stdout",
     "output_type": "stream",
     "text": [
      "CPU times: user 9.45 s, sys: 267 ms, total: 9.71 s\n",
      "Wall time: 10.1 s\n"
     ]
    }
   ],
   "source": [
    "%%time\n",
    "with open(\"/tmp/converted\", \"w\") as f:\n",
    "    for s,y_vals in zip(X_train, y_train):\n",
    "        for toke, y_val in zip(s,y_vals):\n",
    "            label = numbered[y_val]\n",
    "            #joined = \" \".join(toke[:-1]).replace(\"|\",\"\").replace(\":\", \"COLON\")\n",
    "            joined = features_tostring(toke)\n",
    "            #[features_tostring(f) for f in X_train[0]]\n",
    "            f.write(f\"{label} |w {joined}\\n\")\n",
    "        f.write(\"\\n\")"
   ]
  },
  {
   "cell_type": "code",
   "execution_count": 439,
   "metadata": {},
   "outputs": [],
   "source": [
    "with open(\"/tmp/test_converted\", \"w\") as f:\n",
    "    for s,y_vals in zip(X_test, y_test):\n",
    "        for toke, y_val in zip(s,y_vals):\n",
    "            label = numbered[y_val]\n",
    "            #joined = \" \".join(toke[:-1]).replace(\"|\",\"\").replace(\":\", \"COLON\")\n",
    "            joined = features_tostring(toke)\n",
    "            #[features_tostring(f) for f in X_train[0]]\n",
    "            f.write(f\"{label} |w {joined}\\n\")\n",
    "        f.write(\"\\n\")"
   ]
  },
  {
   "cell_type": "code",
   "execution_count": 447,
   "metadata": {
    "scrolled": true
   },
   "outputs": [
    {
     "name": "stdout",
     "output_type": "stream",
     "text": [
      "rm: /tmp/mycrfmodel: No such file or directory\n",
      "final_regressor = /tmp/mycrfmodel\n",
      "Num weight bits = 24\n",
      "learning rate = 0.5\n",
      "initial_t = 0\n",
      "power_t = 0.5\n",
      "decay_learning_rate = 1\n",
      "creating cache_file = /tmp/converted.cache\n",
      "Reading datafile = /tmp/converted\n",
      "num sources = 1\n",
      "average    since      instance            current true      current predicted   cur   cur   predic    cache  examples          \n",
      "loss       last        counter           output prefix          output prefix  pass   pol     made     hits    gener  beta    \n",
      "9.000000   9.000000          1  [1 5 1 5 5 5 5 5 6 ..] [1 1 1 1 1 1 1 1 1 ..]     0     0       22        0       11  0.000000\n",
      "4.500000   0.000000          2  [5                   ] [5                   ]     0     0       24        0       12  0.000000\n",
      "5.500000   6.500000          4  [5 5 5 8 9 5 5 5 5 ..] [5 5 5 3 5 5 5 5 5 ..]     0     0      226        0      113  0.000000\n",
      "3.625000   1.750000          8  [5 5 5 5 5 5 5 5 5 ..] [5 5 5 5 5 5 5 5 5 ..]     0     0      526        0      263  0.000000\n",
      "3.687500   3.750000         16  [5 5 5 5 5 5 5 6 5 ..] [6 5 5 5 5 5 5 1 5 ..]     0     0     1239        0      619  0.000000\n",
      "2.781250   1.875000         32  [5                   ] [5                   ]     0     0     1723        0      838  0.000000\n",
      "2.765625   2.750000         64  [5 5 5 1 5           ] [5 5 5 1 5           ]     0     0     2527        0     1228  0.000000\n",
      "1.851562   0.937500        128  [5 5 5 5 5 5 5 5 5 ..] [5 5 5 5 5 5 5 5 5 ..]     0     0     6392        0     3028  0.000000\n",
      "1.863281   1.875000        256  [5 5 5 5 5 5 5 5 5 ..] [5 5 5 5 5 5 5 5 5 ..]     0     0      15k        0     7249  0.000001\n",
      "1.689453   1.515625        512  [5 5 5 5 5 5 5 5 5 ..] [5 5 5 5 5 5 5 5 5 ..]     0     0      33k        0      15k  0.000002\n",
      "1.468750   1.248047       1024  [5 5 5 5 5 5 5 5 6 ..] [5 5 5 5 5 5 5 5 6 ..]     0     0      69k        0      32k  0.000003\n",
      "1.194824   0.920898       2048  [5 5 5 5 5 5 5 5 5 ..] [5 5 5 5 5 5 5 5 5 ..]     0     0     131k        0      62k  0.000006\n",
      "1.133057   1.071289       4096  [5                   ] [5                   ]     0     0     273k        0     129k  0.000013\n",
      "1.100110   1.100110       8192  [8 5 5 5 5 5 5 5 5 ..] [8 5 5 5 5 5 5 5 5 ..]     1     0     527k        0     260k  0.000026 h\n",
      "0.993953   0.887912        16k  [5 5 5 5 5 5 5 5 5 ..] [5 5 5 5 5 5 5 5 5 ..]     2     0     818k        0     522k  0.000052 h\n",
      "0.918934   0.843956        32k  [5 5 5 5 5 5 5 5 5 ..] [5 5 5 5 5 5 5 5 5 ..]     4     0    1391k        0    1036k  0.000104 h\n",
      "\n",
      "finished run\n",
      "number of examples per pass = 7491\n",
      "passes used = 6\n",
      "weighted example sum = 44946.000000\n",
      "weighted label sum = 0.000000\n",
      "average loss = 0.849760 h\n",
      "total feature number = 31007394\n",
      "CPU times: user 123 ms, sys: 52.8 ms, total: 176 ms\n",
      "Wall time: 6.12 s\n"
     ]
    }
   ],
   "source": [
    "%%time\n",
    "!rm /tmp/mycrfmodel\n",
    "!vw -b 24 -k -c -d /tmp/converted --passes 6 --search_rollin learn --search_rollout none \\\n",
    "  --search_history_length 2  \\\n",
    "  --search_task sequence \\\n",
    "  --search 9 \\\n",
    "  -f /tmp/mycrfmodel \n",
    "#  --affix -2w,+2w \\\n",
    "#  --search_neighbor_features -2:w,-1:w,1:w \\\n",
    "\n",
    "#!vw -b 24 -k -c -d /tmp/converted --passes 6 --search_rollin learn --search_rollout none --search_history_length 2  --search_task sequence --search 9  -f /tmp/mycrfmodel \n"
   ]
  },
  {
   "cell_type": "code",
   "execution_count": 448,
   "metadata": {},
   "outputs": [
    {
     "name": "stdout",
     "output_type": "stream",
     "text": [
      "rm: /tmp/mycrfpredict: No such file or directory\n",
      "only testing\n",
      "predictions = /tmp/mycrfpredict\n",
      "Num weight bits = 24\n",
      "learning rate = 0.5\n",
      "initial_t = 0\n",
      "power_t = 0.5\n",
      "using no cache\n",
      "Reading datafile = /tmp/test_converted\n",
      "num sources = 1\n",
      "average    since      instance            current true      current predicted   cur   cur   predic    cache  examples          \n",
      "loss       last        counter           output prefix          output prefix  pass   pol     made     hits    gener  beta    \n",
      "0.000000   0.000000          1  [1 2 5 5 5 5 6 5 5   ] [1 2 5 5 5 5 6 5 5   ]     0     0        9        0        0  0.000000\n",
      "0.000000   0.000000          2  [5                   ] [5                   ]     0     0       10        0        0  0.000000\n",
      "0.500000   1.000000          4  [8 9 5 5 5 5 5 5 3 ..] [8 9 5 5 5 5 5 5 3 ..]     0     0      107        0        0  0.000000\n",
      "1.000000   1.500000          8  [5 6 7 5 5 5 5 5 5 ..] [5 6 7 5 5 5 5 5 5 ..]     0     0      227        0        0  0.000000\n",
      "0.937500   0.875000         16  [5                   ] [5                   ]     0     0      546        0        0  0.000000\n",
      "2.000000   3.062500         32  [5 5 5 5 5 6 7 7 7 ..] [5 5 5 5 5 6 7 7 7 ..]     0     0     1259        0        0  0.000000\n",
      "1.187500   0.375000         64  [5 5 5 5 5 5 5 5 5 ..] [5 5 5 5 5 5 5 5 5 ..]     0     0     2504        0        0  0.000000\n",
      "1.070312   0.953125        128  [5 5 5 5 5 5 5 5 5 ..] [5 5 5 5 5 5 5 5 5 ..]     0     0     4510        0        0  0.000000\n",
      "0.839844   0.609375        256  [5                   ] [5                   ]     0     0     8793        0        0  0.000000\n",
      "0.951172   1.062500        512  [5 5 1 5 5 5 5 6 5 5 ] [6 5 1 5 5 5 5 6 5 5 ]     0     0      17k        0        0  0.000000\n",
      "1.016602   1.082031       1024  [5 5 5 5 5 5 5 5 5 ..] [5 5 5 5 5 5 5 5 5 ..]     0     0      34k        0        0  0.000000\n",
      "\n",
      "finished run\n",
      "number of examples = 1517\n",
      "weighted example sum = 1517.000000\n",
      "weighted label sum = 0.000000\n",
      "average loss = 0.990112\n",
      "total feature number = 1120073\n"
     ]
    }
   ],
   "source": [
    "!rm /tmp/mycrfpredict\n",
    "!vw  -b 24 -t /tmp/test_converted --search_task sequence --search 9  -p /tmp/mycrfpredict -i /tmp/mycrfmodel\n"
   ]
  },
  {
   "cell_type": "code",
   "execution_count": 449,
   "metadata": {},
   "outputs": [
    {
     "name": "stdout",
     "output_type": "stream",
     "text": [
      "1517\n"
     ]
    },
    {
     "data": {
      "text/plain": [
       "0.7921416040590283"
      ]
     },
     "execution_count": 449,
     "metadata": {},
     "output_type": "execute_result"
    }
   ],
   "source": [
    "with open(\"/tmp/mycrfpredict\", \"r\") as f:\n",
    "    lines = f.readlines()\n",
    "    inv_map = {v: k for k, v in numbered.items()}\n",
    "    #vw_pred = [[numbered[int(t)] for t in l.split()] for l in lines]\n",
    "    vw_pred = [[inv_map[int(t)] for t in l.split()] for l in lines]\n",
    "    print(len(lines))\n",
    "metrics.flat_f1_score(y_test, vw_pred,\n",
    "                       average='weighted', labels=labels)"
   ]
  },
  {
   "cell_type": "code",
   "execution_count": null,
   "metadata": {},
   "outputs": [],
   "source": []
  }
 ],
 "metadata": {
  "kernelspec": {
   "display_name": "myenv",
   "language": "python",
   "name": "myenv"
  },
  "language_info": {
   "codemirror_mode": {
    "name": "ipython",
    "version": 3
   },
   "file_extension": ".py",
   "mimetype": "text/x-python",
   "name": "python",
   "nbconvert_exporter": "python",
   "pygments_lexer": "ipython3",
   "version": "3.7.7"
  }
 },
 "nbformat": 4,
 "nbformat_minor": 2
}
